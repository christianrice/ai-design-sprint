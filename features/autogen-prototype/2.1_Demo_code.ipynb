{
 "cells": [
  {
   "cell_type": "code",
   "execution_count": null,
   "metadata": {},
   "outputs": [],
   "source": [
    "from autogen.agentchat.groupchat import GroupChat\n",
    "from autogen.agentchat.agent import Agent\n",
    "from autogen.agentchat.assistant_agent import AssistantAgent\n",
    "from autogen import config_list_from_json"
   ]
  },
  {
   "cell_type": "code",
   "execution_count": null,
   "metadata": {},
   "outputs": [],
   "source": [
    "config_list = config_list_from_json(env_or_file=\"OAI_CONFIG_LIST\")\n",
    "llm_config = {\"config_list\": config_list, \"cache_seed\": 42}"
   ]
  },
  {
   "cell_type": "code",
   "execution_count": null,
   "metadata": {},
   "outputs": [],
   "source": [
    "import random\n",
    "from typing import List, Dict\n",
    "\n",
    "class CustomGroupChat(GroupChat):\n",
    "    def __init__(self, agents, messages, max_round=10):\n",
    "        super().__init__(agents, messages, max_round)\n",
    "        self.previous_speaker = None  # Keep track of the previous speaker\n",
    "    \n",
    "    def select_speaker(self, last_speaker: Agent, selector: AssistantAgent):\n",
    "        # Check if last message suggests a next speaker or termination\n",
    "        last_message = self.messages[-1] if self.messages else None\n",
    "        if last_message:\n",
    "            if 'NEXT:' in last_message['content']:\n",
    "                suggested_next = last_message['content'].split('NEXT: ')[-1].strip()\n",
    "                print(f'Extracted suggested_next = {suggested_next}')\n",
    "                try:\n",
    "                    return self.agent_by_name(suggested_next)\n",
    "                except ValueError:\n",
    "                    pass  # If agent name is not valid, continue with normal selection\n",
    "            elif 'TERMINATE' in last_message['content']:\n",
    "                try:\n",
    "                    return self.agent_by_name('User_proxy')\n",
    "                except ValueError:\n",
    "                    pass  # If 'User_proxy' is not a valid name, continue with normal selection\n",
    "        \n",
    "        team_leader_names = [agent.name for agent in self.agents if agent.name.endswith('1')]\n",
    "\n",
    "        if last_speaker.name in team_leader_names:\n",
    "            team_letter = last_speaker.name[0]\n",
    "            possible_next_speakers = [\n",
    "                agent for agent in self.agents if (agent.name.startswith(team_letter) or agent.name in team_leader_names) \n",
    "                and agent != last_speaker and agent != self.previous_speaker\n",
    "            ]\n",
    "        else:\n",
    "            team_letter = last_speaker.name[0]\n",
    "            possible_next_speakers = [\n",
    "                agent for agent in self.agents if agent.name.startswith(team_letter) \n",
    "                and agent != last_speaker and agent != self.previous_speaker\n",
    "            ]\n",
    "\n",
    "        self.previous_speaker = last_speaker\n",
    "\n",
    "        if possible_next_speakers:\n",
    "            next_speaker = random.choice(possible_next_speakers)\n",
    "            return next_speaker\n",
    "        else:\n",
    "            return None"
   ]
  },
  {
   "cell_type": "code",
   "execution_count": null,
   "metadata": {},
   "outputs": [],
   "source": [
    "# Termination message detection\n",
    "def is_termination_msg(content) -> bool:\n",
    "    have_content = content.get(\"content\", None) is not None\n",
    "    if have_content and \"TERMINATE\" in content[\"content\"]:\n",
    "        return True\n",
    "    return False"
   ]
  },
  {
   "cell_type": "code",
   "execution_count": null,
   "metadata": {},
   "outputs": [],
   "source": [
    "import autogen\n",
    "\n",
    "agents_A = [\n",
    "    AssistantAgent(name='A1', \n",
    "                   system_message=\"You are a team leader A1, your team consists of A2, A3. You can talk to the other team leader B1, whose team member is B2.\",\n",
    "                   llm_config=llm_config),\n",
    "    AssistantAgent(name='A2', \n",
    "                   system_message=\"You are team member A2, you know the secret value of x but not y, x = 9. Tell others x to cooperate.\",\n",
    "                   llm_config=llm_config),\n",
    "    AssistantAgent(name='A3', \n",
    "                   system_message=\"You are team member A3, You know the secret value of y but not x, y = 5. Tell others y to cooperate.\",\n",
    "                   llm_config=llm_config)\n",
    "]\n",
    "\n",
    "agents_B = [\n",
    "    AssistantAgent(name='B1', \n",
    "                   system_message=\"You are a team leader B1, your team consists of B2. You can talk to the other team leader A1, whose team member is A2, A3. Use NEXT: A1 to suggest talking to A1.\",\n",
    "                   llm_config=llm_config),\n",
    "    AssistantAgent(name='B2', \n",
    "                   system_message=\"You are team member B2. Your task is to find out the value of x and y and compute the product. Once you have the answer, say out the answer and append a new line with TERMINATE.\",\n",
    "                   llm_config=llm_config)\n",
    "]\n",
    "\n",
    "# Terminates the conversation when TERMINATE is detected.\n",
    "user_proxy = autogen.UserProxyAgent(\n",
    "        name=\"User_proxy\",\n",
    "        system_message=\"Terminator admin.\",\n",
    "        code_execution_config=False,\n",
    "        is_termination_msg=is_termination_msg,\n",
    "        human_input_mode=\"NEVER\")\n",
    "\n",
    "list_of_agents = agents_A + agents_B\n",
    "list_of_agents.append(user_proxy)\n",
    "\n",
    "# Create CustomGroupChat\n",
    "group_chat = CustomGroupChat(\n",
    "    agents=list_of_agents,  # Include all agents\n",
    "    messages=['Everyone cooperate and help agent B2 in his task. Team A has A1, A2, A3. Team B has B1, B2. Only members of the same team can talk to one another. Only team leaders (names ending with 1) can talk amongst themselves. You must use \"NEXT: B1\" to suggest talking to B1 for example; You can suggest only one person, you cannot suggest yourself or the previous speaker; You can also dont suggest anyone.'],\n",
    "    max_round=30\n",
    ")\n",
    "\n",
    "\n",
    "# Create the manager\n",
    "llm_config = {\"config_list\": config_list, \"cache_seed\": None}  # cache_seed is None because we want to observe if there is any communication pattern difference if we reran the group chat.\n",
    "manager = autogen.GroupChatManager(groupchat=group_chat, llm_config=llm_config)"
   ]
  },
  {
   "cell_type": "code",
   "execution_count": null,
   "metadata": {},
   "outputs": [],
   "source": [
    "agents_B[1].initiate_chat(manager, message=\"Find the product of x and y, the other agents know x and y.\")"
   ]
  },
  {
   "cell_type": "code",
   "execution_count": null,
   "metadata": {},
   "outputs": [],
   "source": []
  }
 ],
 "metadata": {
  "kernelspec": {
   "display_name": "venv",
   "language": "python",
   "name": "python3"
  },
  "language_info": {
   "codemirror_mode": {
    "name": "ipython",
    "version": 3
   },
   "file_extension": ".py",
   "mimetype": "text/x-python",
   "name": "python",
   "nbconvert_exporter": "python",
   "pygments_lexer": "ipython3",
   "version": "3.11.5"
  }
 },
 "nbformat": 4,
 "nbformat_minor": 2
}
