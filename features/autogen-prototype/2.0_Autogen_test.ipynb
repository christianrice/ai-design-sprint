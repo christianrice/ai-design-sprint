{
 "cells": [
  {
   "cell_type": "code",
   "execution_count": null,
   "metadata": {},
   "outputs": [],
   "source": [
    "%pip install pyautogen"
   ]
  },
  {
   "cell_type": "code",
   "execution_count": null,
   "metadata": {},
   "outputs": [],
   "source": [
    "from autogen import AssistantAgent, UserProxyAgent, config_list_from_json\n",
    "import autogen\n",
    "\n",
    "# Load LLM inference endpoints from an env variable or a file\n",
    "# See https://microsoft.github.io/autogen/docs/FAQ#set-your-api-endpoints\n",
    "# and OAI_CONFIG_LIST_sample.json\n",
    "config_list = config_list_from_json(env_or_file=\"OAI_CONFIG_LIST\")\n",
    "llm_config = {\"config_list\": config_list, \"cache_seed\": 42}\n",
    "user_proxy = autogen.UserProxyAgent(\n",
    "   name=\"User_proxy\",\n",
    "   system_message=\"A human admin. You only interact with the Coordinator to generate a poem on the provided topic.\",\n",
    "   code_execution_config=False,\n",
    "   human_input_mode=\"TERMINATE\"\n",
    ")\n",
    "coordinator = autogen.AssistantAgent(\n",
    "    name=\"Coordinator\",\n",
    "    system_message=\"You are the Coordinator. You will send tasks to the Poet only. You will always prompt the poet to generate poems about the ORIGINAL TOPIC until the critic deems one 8 or higher. If it is an 8 or higher, respond with TERMINATE\",\n",
    "    llm_config=llm_config,\n",
    ")\n",
    "poet = autogen.AssistantAgent(\n",
    "    name=\"Poet\",\n",
    "    system_message=\"You are a poet. You respond with a poem and nothing else. Your poems are always 10 words long. You can talk to Critic only.\",\n",
    "    llm_config=llm_config,\n",
    ")\n",
    "critic = autogen.AssistantAgent(\n",
    "    name=\"Critic\",\n",
    "    system_message=\"You are a critic. You return nothing but a 0-10 score for a poem. To be higher than 8, a poem must be very good. You can talk to Coordinator only.\",\n",
    "    llm_config=llm_config,\n",
    ")\n",
    "groupchat = autogen.GroupChat(agents=[user_proxy, coordinator, poet, critic], messages=[], max_round=20)\n",
    "manager = autogen.GroupChatManager(groupchat=groupchat, llm_config=llm_config)"
   ]
  },
  {
   "cell_type": "code",
   "execution_count": null,
   "metadata": {},
   "outputs": [],
   "source": [
    "user_proxy = autogen.UserProxyAgent(\n",
    "   name=\"Admin\",\n",
    "   system_message=\"A human admin. Interact with the planner to discuss the plan. Plan execution needs to be approved by this admin.\",\n",
    "   code_execution_config=False,\n",
    ")\n",
    "engineer = autogen.AssistantAgent(\n",
    "    name=\"Engineer\",\n",
    "    llm_config=gpt4_config,\n",
    "    system_message='''Engineer. You follow an approved plan. You write python/shell code to solve tasks. Wrap the code in a code block that specifies the script type. The user can't modify your code. So do not suggest incomplete code which requires others to modify. Don't use a code block if it's not intended to be executed by the executor.\n",
    "Don't include multiple code blocks in one response. Do not ask others to copy and paste the result. Check the execution result returned by the executor.\n",
    "If the result indicates there is an error, fix the error and output the code again. Suggest the full code instead of partial code or code changes. If the error can't be fixed or if the task is not solved even after the code is executed successfully, analyze the problem, revisit your assumption, collect additional info you need, and think of a different approach to try.\n",
    "''',\n",
    ")\n",
    "scientist = autogen.AssistantAgent(\n",
    "    name=\"Scientist\",\n",
    "    llm_config=gpt4_config,\n",
    "    system_message=\"\"\"Scientist. You follow an approved plan. You are able to categorize papers after seeing their abstracts printed. You don't write code.\"\"\"\n",
    ")\n",
    "planner = autogen.AssistantAgent(\n",
    "    name=\"Planner\",\n",
    "    system_message='''Planner. Suggest a plan. Revise the plan based on feedback from admin and critic, until admin approval.\n",
    "The plan may involve an engineer who can write code and a scientist who doesn't write code.\n",
    "Explain the plan first. Be clear which step is performed by an engineer, and which step is performed by a scientist.\n",
    "''',\n",
    "    llm_config=gpt4_config,\n",
    ")\n",
    "executor = autogen.UserProxyAgent(\n",
    "    name=\"Executor\",\n",
    "    system_message=\"Executor. Execute the code written by the engineer and report the result.\",\n",
    "    human_input_mode=\"NEVER\",\n",
    "    code_execution_config={\"last_n_messages\": 3, \"work_dir\": \"paper\"},\n",
    ")\n",
    "critic = autogen.AssistantAgent(\n",
    "    name=\"Critic\",\n",
    "    system_message=\"Critic. Double check plan, claims, code from other agents and provide feedback. Check whether the plan includes adding verifiable info such as source URL.\",\n",
    "    llm_config=gpt4_config,\n",
    ")"
   ]
  },
  {
   "cell_type": "code",
   "execution_count": null,
   "metadata": {},
   "outputs": [],
   "source": [
    "coordinator.initiate_chat(manager, message=\"The topic is Atlantic Ocean.\")"
   ]
  },
  {
   "cell_type": "code",
   "execution_count": null,
   "metadata": {},
   "outputs": [],
   "source": [
    "%pip install yfinance"
   ]
  },
  {
   "cell_type": "code",
   "execution_count": null,
   "metadata": {},
   "outputs": [],
   "source": [
    "import yfinance as yf\n",
    "import matplotlib.pyplot as plt\n",
    "\n",
    "# Define the ticker symbols for the stocks\n",
    "nvda_ticker = \"NVDA\"\n",
    "tesla_ticker = \"TSLA\"\n",
    "\n",
    "# Download the historical stock price data\n",
    "nvda_data = yf.download(nvda_ticker, start=\"2021-01-01\", end=\"2021-12-31\")\n",
    "tesla_data = yf.download(tesla_ticker, start=\"2021-01-01\", end=\"2021-12-31\")\n",
    "\n",
    "# Extract the \"Close\" price from the data\n",
    "nvda_close = nvda_data[\"Close\"]\n",
    "tesla_close = tesla_data[\"Close\"]\n",
    "\n",
    "# Plot the stock price change YTD\n",
    "plt.plot(nvda_close.index, nvda_close, label=\"NVDA\")\n",
    "plt.plot(tesla_close.index, tesla_close, label=\"TSLA\")\n",
    "plt.xlabel(\"Date\")\n",
    "plt.ylabel(\"Stock Price\")\n",
    "plt.title(\"NVDA and TESLA Stock Price Change YTD\")\n",
    "plt.legend()\n",
    "plt.show()"
   ]
  },
  {
   "cell_type": "code",
   "execution_count": null,
   "metadata": {},
   "outputs": [],
   "source": [
    "# Termination message detection\n",
    "def is_termination_msg(content) -> bool:\n",
    "    have_content = content.get(\"content\", None) is not None\n",
    "    if have_content and \"TERMINATE\" in content[\"content\"]:\n",
    "        return True\n",
    "    return False"
   ]
  },
  {
   "cell_type": "code",
   "execution_count": null,
   "metadata": {},
   "outputs": [],
   "source": [
    "from autogen import AssistantAgent, UserProxyAgent, config_list_from_json\n",
    "import autogen\n",
    "\n",
    "# Load LLM inference endpoints from an env variable or a file\n",
    "# See https://microsoft.github.io/autogen/docs/FAQ#set-your-api-endpoints\n",
    "# and OAI_CONFIG_LIST_sample.json\n",
    "config_list = config_list_from_json(env_or_file=\"OAI_CONFIG_LIST\")\n",
    "llm_config = {\"config_list\": config_list, \"cache_seed\": 42}\n",
    "design_system_proxy = autogen.UserProxyAgent(\n",
    "   name=\"User_proxy\",\n",
    "   system_message=\"A human admin.\",\n",
    "   code_execution_config=False,\n",
    "   is_termination_msg=is_termination_msg,\n",
    "   human_input_mode=\"NEVER\"\n",
    ")\n",
    "facilitator = autogen.AssistantAgent(\n",
    "    name=\"Facilitator\",\n",
    "    system_message=\"\"\"You are the Facilitator. You gather opinions from EVERYONE (both the Marketer and the Customer Expert), then select the best 3 examples among everything brainstormed, followed by the word TERMINATE. Do not write anything else.\"\"\",\n",
    "    llm_config=llm_config,\n",
    ")\n",
    "marketer = autogen.AssistantAgent(\n",
    "    name=\"Marketer\",\n",
    "    system_message=\"\"\"You are the Marketer. You are the CMO of this company who cares about the company's brand identify. Share 3 one-sentence goals based on your area of expertise. Do not write anything else.\"\"\",\n",
    "    llm_config=llm_config,\n",
    ")\n",
    "customer_expert = autogen.AssistantAgent(\n",
    "    name=\"Customer_expert\",\n",
    "    system_message=\"\"\"You are the Customer Expert. You always bring in the customer's perspective. Share 3 one-sentence goals based on your area of expertise. Do not write anything else.\"\"\",\n",
    "    llm_config=llm_config,\n",
    ")\n",
    "groupchat = autogen.GroupChat(agents=[design_system_proxy, facilitator, marketer, customer_expert], messages=[], max_round=20)\n",
    "manager = autogen.GroupChatManager(groupchat=groupchat, llm_config=llm_config)"
   ]
  },
  {
   "cell_type": "code",
   "execution_count": null,
   "metadata": {},
   "outputs": [],
   "source": [
    "facilitator.initiate_chat(manager, message=\"Help retirees transition to a life without work.\")"
   ]
  },
  {
   "cell_type": "markdown",
   "metadata": {},
   "source": [
    "### Brainstorm questions"
   ]
  },
  {
   "cell_type": "code",
   "execution_count": null,
   "metadata": {},
   "outputs": [],
   "source": [
    "from autogen import AssistantAgent, UserProxyAgent, config_list_from_json\n",
    "import autogen\n",
    "\n",
    "# Load LLM inference endpoints from an env variable or a file\n",
    "# See https://microsoft.github.io/autogen/docs/FAQ#set-your-api-endpoints\n",
    "# and OAI_CONFIG_LIST_sample.json\n",
    "config_list = config_list_from_json(env_or_file=\"OAI_CONFIG_LIST\")\n",
    "llm_config = {\"config_list\": config_list, \"cache_seed\": 42}\n",
    "design_system_proxy = autogen.UserProxyAgent(\n",
    "   name=\"User_proxy\",\n",
    "   system_message=\"A human admin.\",\n",
    "   code_execution_config=False,\n",
    "   is_termination_msg=is_termination_msg,\n",
    "   human_input_mode=\"NEVER\"\n",
    ")\n",
    "facilitator = autogen.AssistantAgent(\n",
    "    name=\"Facilitator\",\n",
    "    system_message=\"\"\"You are the Facilitator. You gather opinions from EVERYONE (both the Marketer and the Customer Expert) to collect questions about the sprint goal, which is: \"Help retirees transition healthily out of work.\" We assume a lot of things, so we want to look pessimistically and wonder how we might fail to achieve this goal. Each expert should provide 5 questions such as \"Will customers trust our expertise?\". Once you have collected questions, return the top 3 that you think are most important, followed by the word TERMINATE.\"\"\",\n",
    "    llm_config=llm_config,\n",
    ")\n",
    "marketer = autogen.AssistantAgent(\n",
    "    name=\"Marketer\",\n",
    "    system_message=\"\"\"You are the Marketer. You are the CMO of this company who cares about the company's brand.\"\"\",\n",
    "    llm_config=llm_config,\n",
    ")\n",
    "customer_expert = autogen.AssistantAgent(\n",
    "    name=\"Customer_expert\",\n",
    "    system_message=\"\"\"You are the Customer Expert. You always bring in the customer's perspective.\"\"\",\n",
    "    llm_config=llm_config,\n",
    ")\n",
    "groupchat = autogen.GroupChat(agents=[design_system_proxy, facilitator, marketer, customer_expert], messages=[], max_round=20)\n",
    "manager = autogen.GroupChatManager(groupchat=groupchat, llm_config=llm_config)"
   ]
  },
  {
   "cell_type": "code",
   "execution_count": null,
   "metadata": {},
   "outputs": [],
   "source": [
    "facilitator.initiate_chat(manager, message=\"Help retirees transition to a life without work.\")"
   ]
  },
  {
   "cell_type": "code",
   "execution_count": null,
   "metadata": {},
   "outputs": [],
   "source": []
  }
 ],
 "metadata": {
  "kernelspec": {
   "display_name": "venv",
   "language": "python",
   "name": "python3"
  },
  "language_info": {
   "codemirror_mode": {
    "name": "ipython",
    "version": 3
   },
   "file_extension": ".py",
   "mimetype": "text/x-python",
   "name": "python",
   "nbconvert_exporter": "python",
   "pygments_lexer": "ipython3",
   "version": "3.11.5"
  }
 },
 "nbformat": 4,
 "nbformat_minor": 2
}
